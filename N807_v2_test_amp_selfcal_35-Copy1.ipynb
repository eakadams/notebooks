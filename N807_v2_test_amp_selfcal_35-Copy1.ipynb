{
 "cells": [
  {
   "cell_type": "code",
   "execution_count": null,
   "metadata": {},
   "outputs": [],
   "source": [
    "# After we have successfully calibrated the central element beam of an APERTIF observation we now also want to calibrate and image several beams\n",
    "# Let's start the pipeline again as we did in the last tutorial\n",
    "# Remember to change all the directory paths to your own ones\n",
    "%config IPCompleter.greedy=True\n",
    "%matplotlib notebook\n",
    "import libs.lib as lib\n",
    "lib.setup_logger('info', logfile='/home/adams/ipynb_apertif/log/N807_beam_35_test_amp.log')\n",
    "import apercal"
   ]
  },
  {
   "cell_type": "code",
   "execution_count": null,
   "metadata": {},
   "outputs": [],
   "source": [
    "# The paramaters for the SELFCAL module are simplified.  I only left the standard reduction in and removed the manual and adaptive ones.\n",
    "scal = apercal.scal('/home/adams/ipynb_apertif/cfg/N807_beams.cfg')\n",
    "scal.show()"
   ]
  },
  {
   "cell_type": "code",
   "execution_count": null,
   "metadata": {},
   "outputs": [],
   "source": [
    "# First you might want to reduce all the beams with the same paramaters. You can easily make a list of the available beams for your dataset:\n",
    "import glob\n",
    "from subs import managefiles\n",
    "# Move to the base directory of the data reduction\n",
    "managefiles.director(scal,'ch', scal.basedir)\n",
    "# Get a list of the available beams\n",
    "beams = glob.glob('*')\n",
    "\n",
    "print(beams)"
   ]
  },
  {
   "cell_type": "code",
   "execution_count": null,
   "metadata": {},
   "outputs": [],
   "source": [
    "# Now iterate over the list of beams and execute the self calibration\n",
    "for beam in beams:\n",
    "    scal.beam = beam\n",
    "    scal.go()"
   ]
  },
  {
   "cell_type": "code",
   "execution_count": null,
   "metadata": {},
   "outputs": [],
   "source": [
    "# You might want to change the paramaters and redo the calibration for one of the beams individually\n",
    "\n",
    "# First set the beam you want to redo. For instance 01\n",
    "scal.beam = '35'\n",
    "# Then remove the selfcal directory for this beam\n",
    "scal.reset()\n",
    "# Then change the paramaters according to your needs\n",
    "#scal.selfcal_parametric = True\n",
    "#selfcal_standard_amp = False\n",
    "#selfcal_standard_amp_auto_limit = 1.0\n",
    "#selfcal_standard_nfbin = 1\n",
    "# and redo the selfcal without the for loop above. You just want to recalibrate this beam.\n",
    "scal.go()"
   ]
  },
  {
   "cell_type": "code",
   "execution_count": null,
   "metadata": {},
   "outputs": [],
   "source": [
    "# If you are satisfied with the self-calibration of all your beams, we can do the same for the continuum imaging\n",
    "continuum = apercal.continuum('/home/lucero/apercal/working/N807_beams.cfg')\n",
    "continuum.show()"
   ]
  },
  {
   "cell_type": "code",
   "execution_count": null,
   "metadata": {},
   "outputs": [],
   "source": [
    "# Do continuum imaging for all beams by iterating with the same loop this time over the CONTINUUM module\n",
    "\n",
    "import glob\n",
    "from subs import managefiles\n",
    "# Move to the base directory of the data reduction\n",
    "managefiles.director(continuum,'ch', continuum.basedir)\n",
    "\n",
    "beams = glob.glob('*')\n",
    "\n",
    "for beam in beams:\n",
    "    continuum.beam = beam\n",
    "    continuum.go()\n",
    "    \n",
    "# You can redo the continuum imaging for individual beams in the same way as for the selfcal module above.\n",
    "# This holds for all modules working on multiple beams"
   ]
  },
  {
   "cell_type": "code",
   "execution_count": null,
   "metadata": {},
   "outputs": [],
   "source": [
    "# Next line imaging. The same as before.\n",
    "\n",
    "line = apercal.line('/home/lucero/apercal/working/N807_beams.cfg')\n",
    "line.show()"
   ]
  },
  {
   "cell_type": "code",
   "execution_count": null,
   "metadata": {},
   "outputs": [],
   "source": [
    "# And the loop over all the beams\n",
    "\n",
    "import glob\n",
    "from subs import managefiles\n",
    "# Move to the base directory of the data reduction\n",
    "managefiles.director(line,'ch', line.basedir)\n",
    "\n",
    "beams = glob.glob('*')\n",
    "\n",
    "for beam in beams:\n",
    "    line.reset()\n",
    "    line.beam = beam\n",
    "    line.go()"
   ]
  },
  {
   "cell_type": "code",
   "execution_count": null,
   "metadata": {},
   "outputs": [],
   "source": []
  }
 ],
 "metadata": {
  "kernelspec": {
   "display_name": "Python 2",
   "language": "python",
   "name": "python2"
  },
  "language_info": {
   "codemirror_mode": {
    "name": "ipython",
    "version": 2
   },
   "file_extension": ".py",
   "mimetype": "text/x-python",
   "name": "python",
   "nbconvert_exporter": "python",
   "pygments_lexer": "ipython2",
   "version": "2.7.12"
  }
 },
 "nbformat": 4,
 "nbformat_minor": 1
}
